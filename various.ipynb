{
 "cells": [
  {
   "cell_type": "markdown",
   "id": "adf6acf5-a9b0-4a14-930f-e77f642b90d6",
   "metadata": {},
   "source": [
    "# Various"
   ]
  },
  {
   "cell_type": "markdown",
   "id": "6785c236-1ab3-4d4d-92cb-28340025ccd2",
   "metadata": {},
   "source": [
    "## hyperbolic functions\n",
    "\n",
    "# $$ cosh(x) = \\frac{e^x+e^{-x}}{2} $$\n",
    "# $$ sinh(x) = \\frac{e^x-e^{-x}}{2} $$\n",
    "# $$ tanh(x) = \\frac{sinh(x)}{cosh(x)} $$"
   ]
  },
  {
   "cell_type": "code",
   "execution_count": null,
   "id": "a19cc4ac-21b9-4976-b1ef-d71e3509c06e",
   "metadata": {},
   "outputs": [],
   "source": []
  }
 ],
 "metadata": {
  "kernelspec": {
   "display_name": "Python 3",
   "language": "python",
   "name": "python3"
  },
  "language_info": {
   "codemirror_mode": {
    "name": "ipython",
    "version": 3
   },
   "file_extension": ".py",
   "mimetype": "text/x-python",
   "name": "python",
   "nbconvert_exporter": "python",
   "pygments_lexer": "ipython3",
   "version": "3.8.8"
  }
 },
 "nbformat": 4,
 "nbformat_minor": 5
}
