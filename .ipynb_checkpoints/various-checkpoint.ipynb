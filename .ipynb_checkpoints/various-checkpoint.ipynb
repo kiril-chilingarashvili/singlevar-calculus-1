{
 "cells": [
  {
   "cell_type": "markdown",
   "id": "adf6acf5-a9b0-4a14-930f-e77f642b90d6",
   "metadata": {},
   "source": [
    "# Various"
   ]
  },
  {
   "cell_type": "markdown",
   "id": "6785c236-1ab3-4d4d-92cb-28340025ccd2",
   "metadata": {},
   "source": [
    "## Hyperbolic functions\n",
    "\n",
    "# $$ \\cosh(x) = \\frac{e^x+e^{-x}}{2} $$\n",
    "# $$ \\sinh(x) = \\frac{e^x-e^{-x}}{2} $$\n",
    "# $$ \\tanh(x) = \\frac{\\sinh(x)}{\\cosh(x)} $$"
   ]
  },
  {
   "cell_type": "markdown",
   "id": "19064c43-feec-4315-8731-e11176432438",
   "metadata": {},
   "source": [
    "### These satisfy the following identity:\n",
    "# $$ \\cosh^2(x) - \\sinh^2(x) = 1 $$"
   ]
  },
  {
   "cell_type": "code",
   "execution_count": null,
   "id": "6e893a69-cbbe-4db4-b730-300a020c3342",
   "metadata": {},
   "outputs": [],
   "source": []
  }
 ],
 "metadata": {
  "kernelspec": {
   "display_name": "Python 3",
   "language": "python",
   "name": "python3"
  },
  "language_info": {
   "codemirror_mode": {
    "name": "ipython",
    "version": 3
   },
   "file_extension": ".py",
   "mimetype": "text/x-python",
   "name": "python",
   "nbconvert_exporter": "python",
   "pygments_lexer": "ipython3",
   "version": "3.8.8"
  }
 },
 "nbformat": 4,
 "nbformat_minor": 5
}
