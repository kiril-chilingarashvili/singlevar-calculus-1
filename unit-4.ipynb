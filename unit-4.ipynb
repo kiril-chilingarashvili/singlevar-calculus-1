{
 "cells": [
  {
   "cell_type": "markdown",
   "id": "a63ae71d-7755-4659-9400-579935c022a7",
   "metadata": {},
   "source": [
    "# Unit 4: Applications"
   ]
  },
  {
   "cell_type": "markdown",
   "id": "ea6bf600-ff3b-4ef5-87e4-d4dd11483b97",
   "metadata": {},
   "source": [
    "## Critical points\n",
    "\n",
    "### The critical points of a function $f(x)$ to be all points $x$ in the domain of $f(x)$ such that\n",
    "\n",
    "### - $f'(x) = 0$, or\n",
    "\n",
    "### - $f'(x)$ does not exist.\n",
    "\n",
    "### Every local extremum must be a critical point\n",
    "### Not every critical point is local extremum"
   ]
  },
  {
   "cell_type": "markdown",
   "id": "12929175-7f0f-4854-be8a-9dfbbaf16cab",
   "metadata": {},
   "source": [
    "## Finding Local Maxima and Minima\n",
    "\n",
    "### Suppose the function $f(x)$ is continuous at $x = a$ and has a critical point at $x = a$.\n",
    "### - $f$ has a ***local minimum*** at $x = a$ if $f'(x) < 0$ just to the left of $a$ and $f'(x) > 0$ just to the right of $a$.\n",
    "### - $f$ has a ***local maximum*** at $x = a$ if $f'(x) > 0$ just to the left of $a$ and $f'(x) < 0$ just to the right of $a$.\n",
    "### - The point $x = a$ is neither a local minimum nor a local maximum of $f$ if $f'(x)$ has the same sign just to the left of $a$ and just to the right of $a$\n"
   ]
  },
  {
   "cell_type": "markdown",
   "id": "471a1329-e780-4daa-969c-e1c49a83f576",
   "metadata": {},
   "source": [
    "## The Second Derivative Test\n",
    "\n",
    "### Suppose that $x = a$ is a critical point of $f$, with $f'(a) = 0$.\n",
    "\n",
    "### - If $f''(a) > 0$, then $f$ has a local minimum at $ x = a $.\n",
    "### - If $f''(a) < 0$, then $f$ has a local maximum at $ x = a $.\n",
    "### - If $f''(a) = 0$, or does not exist, then the test is inconclusive — there might be a local maximum, or a local minimum, or neither."
   ]
  },
  {
   "cell_type": "markdown",
   "id": "e48fb16f-02ff-476f-b6b0-6d0b48148ccd",
   "metadata": {},
   "source": [
    "- The Second Derivative Test requires just one value of , but it is sometimes inconclusive.\n",
    "\n",
    "- The First Derivative Test requires a bit more data, but is often able to provide more information as a result."
   ]
  },
  {
   "cell_type": "markdown",
   "id": "7909bd41-95e0-41d7-9013-c3a1e16bf544",
   "metadata": {},
   "source": [
    "## Inflection points\n",
    "\n",
    "### An ***inflection point*** is a point where the concavity of the function changes. That is the second derivative $f''(x)$ changes sign— $f''(x) > 0$ just to the left of $x$ and $f''(x) < 0$ just to the right of $x$ (or vice versa).\n",
    "\n"
   ]
  },
  {
   "cell_type": "markdown",
   "id": "9e394198-efd1-4f46-9fd6-5bb36d900f5a",
   "metadata": {},
   "source": [
    "## General Strategy and worked example when plotting a function\n",
    "\n",
    " Plot\n",
    "\n",
    "- discontinuities (especially infinite ones)\n",
    "\n",
    "- end points (or $x \\to \\pm \\infty$)\n",
    "\n",
    "- easy points ($x = 0$, or $y = 0$) (This is optional.)\n",
    "\n",
    "Plot critical points and values. (Solve $f'(x) = 0$ or undefined.)\n",
    "\n",
    "- Decide whether $f' < 0$ or $f' > 0$ on each interval between endpoints, critical points, and discontinuities. (Valuable double check)\n",
    "\n",
    "- Identify where $f'' < 0$ and $f'' > 0$ (concave down and concave up).\n",
    "\n",
    "- Identify inflection points. (Makes graph look nice. Can be used to double check.)\n",
    "\n",
    "- Combine into graph."
   ]
  },
  {
   "cell_type": "markdown",
   "id": "58d09b1c-af89-42ae-91e7-78f0fa092385",
   "metadata": {},
   "source": [
    "### Observation: if we know $f'(x) > 0$ and $f''(x) > 0$ for all $x \\in [a, +\\infty)$ then f(x) is unbounded on interval $x \\in [a, +\\infty)$"
   ]
  },
  {
   "cell_type": "markdown",
   "id": "eb701099-e8f3-49e0-89dc-cff0ae5f4486",
   "metadata": {},
   "source": [
    "## l'Hôpital's Rule Version 1: Indeterminate form $\\frac{0}{0}$\n",
    "\n",
    "### if \n",
    "# $$f(x) \\to 0$$ \n",
    "## and \n",
    "# $$g(x) \\to 0$$ \n",
    "### as \n",
    "# $$x \\to a$$\n",
    "### and the functions $f$ and $g$ are differentiable near the point $x = a$, then limit\n",
    "# $$ \\lim_{x \\to a} \\frac{f(x)}{g(x)} = \\lim_{x \\to a} \\frac{f'(x)}{g'(x)} $$\n",
    "### provided that the limit on the right hand side of the equation exists or is $\\pm \\infty$.\n",
    "\n",
    "\n",
    "\n",
    "## l'Hôpital's Rule Version 2: Indeterminate form $\\frac{\\infty}{\\infty}$\n",
    "\n",
    "### if \n",
    "# $$f(x) \\to \\pm \\infty$$ \n",
    "## and \n",
    "# $$g(x) \\to \\pm \\infty$$ \n",
    "### as \n",
    "# $$x \\to a$$\n",
    "### and the functions $f$ and $g$ are differentiable near the point $x = a$, then limit\n",
    "# $$ \\lim_{x \\to a} \\frac{f(x)}{g(x)} = \\lim_{x \\to a} \\frac{f'(x)}{g'(x)} $$\n",
    "### provided that the right hand limit exists or is $\\pm \\infty$.\n",
    "\n",
    "### Note that\n",
    "\n",
    "### - We can replace $a$ with $a^+$ or $a^-$ and the results (versions 1 and 2) still hold.\n",
    "### - We can replace $a$ with $\\pm \\infty$, and the results (versions 1 and 2) still hold."
   ]
  },
  {
   "cell_type": "markdown",
   "id": "35f98a77-5383-41e8-acba-ad60faac8a70",
   "metadata": {},
   "source": [
    "## The limit \n",
    "# $$ \\lim{x \\to a} \\frac{f(x)}{g(x)} = \\lim{x \\to a} \\frac{f'(x)}{g'(x)} $$\n",
    "### in the special case of version 1 where\n",
    "# $$ f(a) = g(a) = 0 $$\n",
    "### , and the right hand limit exists.\n",
    "### Note that for $x$ near $a$, we can approximate $f(x)$ and $g(x)$ by their linear approximations. This gives us:\n",
    "# $$ \\frac{f(x)}{g(x)} \\approx \\frac{f(s) + f'(a) \\Delta x}{g(a) + g'(a) \\Delta x} $$\n",
    "# $$ = \\frac{f'(a) \\Delta x}{g'(a) \\Delta x} \\text{ , since } f(a) = g(a) = 0  $$\n",
    "# $$ = \\frac{f'(a)}{g'(a)} \\text{ , provided that } f'(a) \\text{ and } g'(a) \\text { exists }  $$"
   ]
  },
  {
   "cell_type": "markdown",
   "id": "5164ca80-1765-4c18-8849-d3a6cb2b7e87",
   "metadata": {},
   "source": [
    "## Indeterminate forms\n",
    "### The forms $0^0$, $\\infty^0$, and $1^\\infty$ are all indeterminate forms. To apply\n",
    "### l'Hôpital's rule, we must rearrange these expressions so \n",
    "### that they look like $\\frac{0}{0}$ or $\\frac{\\infty}{\\infty}$. \n",
    "### The trick here is to change to base $e$.\n",
    "\n",
    "### Other indeterminate forms $0 \\cdot \\infty$, $\\infty - \\infty$, $0^0$, $1^\\infty$, and $\\infty^0$ should be rearranged to be of the form $\\frac{0}{0}$ or $\\frac{\\infty}{\\infty}$ in order to apply l'Hôpital's rule."
   ]
  },
  {
   "cell_type": "markdown",
   "id": "c7784a86-ed4e-4bb7-a29d-6babc4873445",
   "metadata": {},
   "source": [
    "## Extreme Value Theorem\n",
    "\n",
    "### If $f$ is continuous on a closed interval $[a, b]$, then there are points at which $f$ attains its maximum and its minimum on $[a, b]$.\n",
    "\n",
    "### It is important to note that this is only guaranteed if the interval is finite and closed. "
   ]
  }
 ],
 "metadata": {
  "kernelspec": {
   "display_name": "Python 3",
   "language": "python",
   "name": "python3"
  },
  "language_info": {
   "codemirror_mode": {
    "name": "ipython",
    "version": 3
   },
   "file_extension": ".py",
   "mimetype": "text/x-python",
   "name": "python",
   "nbconvert_exporter": "python",
   "pygments_lexer": "ipython3",
   "version": "3.8.8"
  }
 },
 "nbformat": 4,
 "nbformat_minor": 5
}
